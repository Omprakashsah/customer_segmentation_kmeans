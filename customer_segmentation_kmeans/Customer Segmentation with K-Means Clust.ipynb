{
 "cells": [
  {
   "cell_type": "markdown",
   "id": "cefe0f82-6a94-45b9-9677-fb27f5ddad70",
   "metadata": {},
   "source": [
    "K-means clustering\n",
    "popular unsupervised machine learning algorithm used for partitioning a dataset into a set of clusters. It is widely used for clustering data in various fields such as data mining, machine learning, and pattern recognition. The goal of K-means clustering is to group data points into clusters based on their similarity."
   ]
  },
  {
   "cell_type": "raw",
   "id": "99cf95b9-6d5f-40eb-b8e1-a9866ed53463",
   "metadata": {},
   "source": [
    "What is mall customer segmentation?\n",
    "A mall customer segmentation machine learning model categorizes customers based on their behaviors and preferences, enabling businesses to tailor marketing strategies and optimize operations for improved customer satisfaction and business growth."
   ]
  },
  {
   "cell_type": "raw",
   "id": "c1d33ae7-ac3a-40b3-8315-438531eae8a7",
   "metadata": {},
   "source": [
    "Mall management can target the clusters with average spending score to increase their profit and should also maintain good relationship with premium customers with high spending score."
   ]
  },
  {
   "cell_type": "code",
   "execution_count": null,
   "id": "73514909-e0ec-4feb-bed0-889967095b99",
   "metadata": {},
   "outputs": [],
   "source": [
    "import numpy as np\n",
    "import pandas as pd\n",
    "import matplotlib.pyplot as plt\n",
    "import seaborn as sns\n",
    "\n",
    "import warnings\n",
    "warnings.filterwarnings(action='ignore')"
   ]
  },
  {
   "cell_type": "raw",
   "id": "ddc6848d-5f90-41cc-9929-3c57ea9510e9",
   "metadata": {},
   "source": [
    "Step 1: Data Exploration and Preprocessing\n",
    "[x] Load your customer dataset.\n",
    "[x] Check for missing values.\n",
    "[x] Check data types.\n",
    "[x] Handle missing values (impute or drop).\n",
    "[x] Check Duplicates\n",
    "[x] Checking Outliers"
   ]
  },
  {
   "cell_type": "code",
   "execution_count": null,
   "id": "4bdfdc7d-882b-428b-8722-8590b4b9cc5c",
   "metadata": {},
   "outputs": [],
   "source": [
    "df = pd.read_csv('Mall_Customers.csv')\n",
    "df.head()"
   ]
  },
  {
   "cell_type": "code",
   "execution_count": null,
   "id": "fb875484-8984-4bc8-974d-d6dae92a78a4",
   "metadata": {},
   "outputs": [],
   "source": [
    "df.rename(columns = {'Genre':'Gender'}, inplace=True)"
   ]
  },
  {
   "cell_type": "code",
   "execution_count": null,
   "id": "140e5fd4-ee8a-41e7-8902-481acd366dfd",
   "metadata": {},
   "outputs": [],
   "source": [
    "df.head()"
   ]
  },
  {
   "cell_type": "code",
   "execution_count": null,
   "id": "f4a31bb0-9adf-4bc3-aa2c-7bafb38e093e",
   "metadata": {},
   "outputs": [],
   "source": [
    "df.isnull().sum()"
   ]
  },
  {
   "cell_type": "code",
   "execution_count": null,
   "id": "19dbd450-34f1-4850-a5f9-a70b01e07cab",
   "metadata": {},
   "outputs": [],
   "source": [
    "df.shape"
   ]
  },
  {
   "cell_type": "code",
   "execution_count": null,
   "id": "6a6a832c-023e-4bc1-98aa-12b01ed76234",
   "metadata": {},
   "outputs": [],
   "source": [
    "df.duplicated()"
   ]
  },
  {
   "cell_type": "code",
   "execution_count": null,
   "id": "272e2d3a-2299-489c-81b7-e1e056de84ff",
   "metadata": {},
   "outputs": [],
   "source": [
    "df.dtypes"
   ]
  },
  {
   "cell_type": "code",
   "execution_count": null,
   "id": "3028ecff-4408-40ea-b029-885dd16875a7",
   "metadata": {},
   "outputs": [],
   "source": [
    "df.describe()"
   ]
  },
  {
   "cell_type": "code",
   "execution_count": null,
   "id": "7ee049de-e800-445f-9770-e505326e9258",
   "metadata": {},
   "outputs": [],
   "source": [
    "#checking for outliers\n",
    "plt.figure(figsize=(10,6))\n",
    "sns.barplot(data = df)"
   ]
  },
  {
   "cell_type": "code",
   "execution_count": null,
   "id": "7fcf282a-326e-4f97-bac4-dec9fc5c6ee8",
   "metadata": {},
   "outputs": [],
   "source": [
    "#No need of customer ID hence removing the customer id\n",
    "\n",
    "df.drop??"
   ]
  },
  {
   "cell_type": "code",
   "execution_count": null,
   "id": "1b3a058a-2121-4912-a8e7-5022f6938ae0",
   "metadata": {},
   "outputs": [],
   "source": [
    "df.drop(['CustomerID'],axis = 1, inplace=True)"
   ]
  },
  {
   "cell_type": "code",
   "execution_count": null,
   "id": "11dbca4d-6e2b-446d-b442-1def07fc83ac",
   "metadata": {},
   "outputs": [],
   "source": [
    "df.head()"
   ]
  },
  {
   "cell_type": "code",
   "execution_count": null,
   "id": "917c4b63-5a06-4547-8902-8a7657ce576c",
   "metadata": {},
   "outputs": [],
   "source": [
    "#Distribution of Annnual Income\n",
    "plt.figure(figsize=(10, 4))\n",
    "sns.set(style = 'darkgrid')\n",
    "sns.distplot(df['Annual Income (k$)'])\n",
    "plt.title('Distribution of Annual Income (k$)')\n",
    "plt.xlabel('Range of Annual Income (k$)')\n",
    "plt.ylabel('Count')\n",
    "plt.show()"
   ]
  },
  {
   "cell_type": "code",
   "execution_count": null,
   "id": "c29334f1-e912-4543-bf47-fb8109674b81",
   "metadata": {},
   "outputs": [],
   "source": [
    "#Distribution of Annnual Income\n",
    "plt.figure(figsize=(10, 5))\n",
    "sns.set(style = 'darkgrid')\n",
    "sns.distplot(df['Age'])\n",
    "plt.title('Distribution of Age')\n",
    "plt.xlabel('Range of Age)')\n",
    "plt.ylabel('Count')\n",
    "plt.show()"
   ]
  },
  {
   "cell_type": "code",
   "execution_count": null,
   "id": "77b7da68-0299-4a3a-9ceb-4792ae92265a",
   "metadata": {},
   "outputs": [],
   "source": [
    "#Converting the Gender into numberic data\n",
    "from sklearn.preprocessing import LabelEncoder\n",
    "lb = LabelEncoder()\n",
    "\n",
    "df['Gender'] = lb.fit_transform(df['Gender']) "
   ]
  },
  {
   "cell_type": "code",
   "execution_count": null,
   "id": "8902f751-e916-47d0-a684-7c1caa4ab349",
   "metadata": {},
   "outputs": [],
   "source": [
    "df.dtypes"
   ]
  },
  {
   "cell_type": "code",
   "execution_count": null,
   "id": "aceb9614-1318-430e-8cdc-3c67b7cce256",
   "metadata": {},
   "outputs": [],
   "source": [
    "df.head()\n",
    "# 1--> Male, 0--> Female"
   ]
  },
  {
   "cell_type": "code",
   "execution_count": null,
   "id": "89b38cb3-d81e-422a-a304-75684c4a0217",
   "metadata": {},
   "outputs": [],
   "source": [
    "from sklearn.preprocessing import StandardScaler\n",
    "\n",
    "scaler = StandardScaler()\n",
    "scaled_feature = scaler.fit_transform(df.iloc[:,2:])"
   ]
  },
  {
   "cell_type": "code",
   "execution_count": null,
   "id": "31921b86-d55f-4e50-997f-01a9da4c4116",
   "metadata": {},
   "outputs": [],
   "source": [
    "selected_features = scaled_feature"
   ]
  },
  {
   "cell_type": "code",
   "execution_count": null,
   "id": "bfc54b74-2bf6-4ee3-b614-ed605e07bb26",
   "metadata": {},
   "outputs": [],
   "source": [
    "scaled_feature"
   ]
  },
  {
   "cell_type": "code",
   "execution_count": null,
   "id": "b7d2408d-f9cf-4583-84d2-e23a1c0df193",
   "metadata": {},
   "outputs": [],
   "source": [
    "from sklearn.cluster import KMeans\n",
    "\n",
    "wcss_list = []\n",
    "for k in range(1, 11):\n",
    "    kmeans = KMeans(n_clusters=k, random_state=42)\n",
    "    kmeans.fit(scaled_feature)\n",
    "    wcss_list.append(kmeans.inertia_)"
   ]
  },
  {
   "cell_type": "code",
   "execution_count": null,
   "id": "3b8cf8d5-4e10-471a-8702-5cebe022a146",
   "metadata": {},
   "outputs": [],
   "source": [
    "# Plot the elbow curve\n",
    "\n",
    "plt.figure(figsize=(8,4))\n",
    "plt.plot(range(1,11), wcss_list, marker = '*', linestyle = '--', color='red')\n",
    "\n",
    "plt.title('Elbow Curve')\n",
    "plt.xlabel('Number of clusters')\n",
    "plt.ylabel('WCSS')\n",
    "plt.xticks(np.arange(1,11, 1))\n",
    "plt.grid(True)\n",
    "plt.show()"
   ]
  },
  {
   "cell_type": "raw",
   "id": "6aa3081e-9695-4380-a468-31c3b4b7e0cd",
   "metadata": {},
   "source": [
    "Apply K-means clustering"
   ]
  },
  {
   "cell_type": "code",
   "execution_count": null,
   "id": "5e42bc71-5388-47ef-be19-dd223b74f391",
   "metadata": {},
   "outputs": [],
   "source": [
    "from sklearn.cluster import KMeans\n",
    "\n",
    "num_clusters = 5\n",
    "kmeans = KMeans(n_clusters=num_clusters, random_state=42)\n",
    "df['cluster'] = kmeans.fit_predict(selected_features)"
   ]
  },
  {
   "cell_type": "code",
   "execution_count": null,
   "id": "0de9c4d9-7d65-4426-9226-a51338231212",
   "metadata": {},
   "outputs": [],
   "source": [
    "kmeans.labels_"
   ]
  },
  {
   "cell_type": "code",
   "execution_count": null,
   "id": "1400d6d5-8d17-40d0-a9b9-a98e9507e541",
   "metadata": {},
   "outputs": [],
   "source": [
    "df.head()"
   ]
  },
  {
   "cell_type": "raw",
   "id": "2a743587-b288-48d2-9431-4b3f273410ce",
   "metadata": {},
   "source": [
    "Visualize the resulting clusters"
   ]
  },
  {
   "cell_type": "code",
   "execution_count": null,
   "id": "95ff91df-8af6-4a1e-b386-3206b1f192ee",
   "metadata": {},
   "outputs": [],
   "source": [
    "#Scatterplot of the clusters\n",
    "plt.figure(figsize=(10,6))\n",
    "sns.scatterplot(x = 'Annual Income (k$)',y = 'Spending Score (1-100)',hue=\"cluster\",  \n",
    "                 palette=['green','orange','brown','dodgerblue','red'], legend='full',data = df  ,s = 60 )\n",
    "plt.xlabel('Annual Income (k$)')\n",
    "plt.ylabel('Spending Score (1-100)') \n",
    "plt.title('Spending Score (1-100) vs Annual Income (k$)')\n",
    "plt.show()"
   ]
  },
  {
   "cell_type": "code",
   "execution_count": null,
   "id": "e8cd0a50-3537-44e7-831e-b8087cc95b09",
   "metadata": {},
   "outputs": [],
   "source": [
    "plt.figure(figsize=(10, 6))\n",
    "colors = ['purple', 'red', 'blue', 'green', 'yellow']\n",
    "for i in range(5):\n",
    "    plt.scatter(df[\"Age\"][df.cluster == i], df[\"Annual Income (k$)\"][df.cluster == i], c=colors[i], label=f'Cluster {i+1}', s=60)\n",
    "plt.xlabel(\"Age\")\n",
    "plt.ylabel(\"Annual Income (k$)\")\n",
    "plt.title('Customer Segmentation')\n",
    "plt.legend()\n",
    "plt.show()"
   ]
  },
  {
   "cell_type": "code",
   "execution_count": null,
   "id": "0459ba21-8d14-4647-af1c-271f8dc0e997",
   "metadata": {},
   "outputs": [],
   "source": []
  }
 ],
 "metadata": {
  "kernelspec": {
   "display_name": "Python 3 (ipykernel)",
   "language": "python",
   "name": "python3"
  },
  "language_info": {
   "codemirror_mode": {
    "name": "ipython",
    "version": 3
   },
   "file_extension": ".py",
   "mimetype": "text/x-python",
   "name": "python",
   "nbconvert_exporter": "python",
   "pygments_lexer": "ipython3",
   "version": "3.11.7"
  }
 },
 "nbformat": 4,
 "nbformat_minor": 5
}
